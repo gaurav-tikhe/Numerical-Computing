{
 "cells": [
  {
   "cell_type": "markdown",
   "metadata": {},
   "source": [
    "Bisection method is a bracketing method used to find roots of a polynomial equation in an interval [a,b]. The principle behind the bisection method is intermediate theorem.\n",
    "Since these are floating point arithmetic, the value of function evaluated is never exactly zero. Thus we select eps as parameter of desired accuracy.\n",
    "Algorithm to find out root by this method is as follows:\n",
    "1. If $f(a) <= eps$ or $f(b) <= eps $ then a or b is the root.\n",
    "2. Find $f(a)*f(b)$ where a < b. If $f(a)*f(b) < 0$, then surely there exists a root between [a,b]. If not change the interval.\n",
    "3. Find out the mid-point of the interval [a,b] as $c = (a+b) / 2$. If $ f(c) <= eps $ then c is the root of the equation.\n",
    "4. Find $f(a)*f(c)$ and $f(b)*f(c)$. Whichever value is less than 0, becomes the new interval.\n",
    "5. Find mid-point of new interval and keep evaluating function at mid-point. Once you reach desire accuracy, stop."
   ]
  },
  {
   "cell_type": "code",
   "execution_count": 25,
   "metadata": {},
   "outputs": [],
   "source": [
    "# Defining the function for which bisection method is to be applied\n",
    "def func(x):\n",
    "    return(x**3-x**2+2)"
   ]
  },
  {
   "cell_type": "code",
   "execution_count": 45,
   "metadata": {},
   "outputs": [],
   "source": [
    "# Bisection method\n",
    "\n",
    "def bisection(func,a,b,eps = 1e-05):\n",
    "    if a > b:\n",
    "        a,b = b,a\n",
    "    print(\"Finding root between\",a,\"&\",b)\n",
    "    if abs(func(a)) <= eps:\n",
    "        print(\"The root of given function is:\",a)\n",
    "    elif abs(func(b)) <= eps:\n",
    "        print(\"The root of given function is:\",b)\n",
    "    else:\n",
    "        c = (a+b) / 2\n",
    "        if abs(func(c)) <= eps:\n",
    "            print(\"The root of given function is:\",a)\n",
    "        else:\n",
    "            if func(a) * func(c) < 0:\n",
    "                return(bisection(func,a,c))\n",
    "            elif func(b) * func(c) < 0 :\n",
    "                return(bisection(func,c,b))\n",
    "    "
   ]
  },
  {
   "cell_type": "code",
   "execution_count": 46,
   "metadata": {},
   "outputs": [
    {
     "name": "stdout",
     "output_type": "stream",
     "text": [
      "Finding root between -5 & 2\n",
      "Finding root between -1.5 & 2\n",
      "Finding root between -1.5 & 0.25\n",
      "Finding root between -1.5 & -0.625\n",
      "Finding root between -1.0625 & -0.625\n",
      "Finding root between -1.0625 & -0.84375\n",
      "Finding root between -1.0625 & -0.953125\n",
      "Finding root between -1.0078125 & -0.953125\n",
      "Finding root between -1.0078125 & -0.98046875\n",
      "Finding root between -1.0078125 & -0.994140625\n",
      "Finding root between -1.0009765625 & -0.994140625\n",
      "Finding root between -1.0009765625 & -0.99755859375\n",
      "Finding root between -1.0009765625 & -0.999267578125\n",
      "Finding root between -1.0001220703125 & -0.999267578125\n",
      "Finding root between -1.0001220703125 & -0.99969482421875\n",
      "Finding root between -1.0001220703125 & -0.999908447265625\n",
      "Finding root between -1.0000152587890625 & -0.999908447265625\n",
      "Finding root between -1.0000152587890625 & -0.9999618530273438\n",
      "Finding root between -1.0000152587890625 & -0.9999885559082031\n",
      "The root of given function is: -1.0000152587890625\n"
     ]
    }
   ],
   "source": [
    "bisection(func,-5,2)"
   ]
  }
 ],
 "metadata": {
  "kernelspec": {
   "display_name": "Python 3",
   "language": "python",
   "name": "python3"
  },
  "language_info": {
   "codemirror_mode": {
    "name": "ipython",
    "version": 3
   },
   "file_extension": ".py",
   "mimetype": "text/x-python",
   "name": "python",
   "nbconvert_exporter": "python",
   "pygments_lexer": "ipython3",
   "version": "3.7.4"
  }
 },
 "nbformat": 4,
 "nbformat_minor": 2
}
