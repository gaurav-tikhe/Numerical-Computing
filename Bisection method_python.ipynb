{
 "cells": [
  {
   "cell_type": "code",
   "execution_count": 25,
   "metadata": {},
   "outputs": [],
   "source": [
    "# Defining the function for which bisection method is to be applied\n",
    "def func(x):\n",
    "    return(x**3-x**2+2)"
   ]
  },
  {
   "cell_type": "code",
   "execution_count": 45,
   "metadata": {},
   "outputs": [],
   "source": [
    "# Bisection method\n",
    "\n",
    "def bisection(func,a,b,eps = 1e-05):\n",
    "    if a > b:\n",
    "        a,b = b,a\n",
    "    print(\"Finding root between\",a,\"&\",b)\n",
    "    if abs(func(a)) <= eps:\n",
    "        print(\"The root of given function is:\",a)\n",
    "    elif abs(func(b)) <= eps:\n",
    "        print(\"The root of given function is:\",b)\n",
    "    else:\n",
    "        c = (a+b) / 2\n",
    "        if abs(func(c)) <= eps:\n",
    "            print(\"The root of given function is:\",a)\n",
    "        else:\n",
    "            if func(a) * func(c) < 0:\n",
    "                return(bisection(func,a,c))\n",
    "            elif func(b) * func(c) < 0 :\n",
    "                return(bisection(func,c,b))\n",
    "    "
   ]
  },
  {
   "cell_type": "code",
   "execution_count": 46,
   "metadata": {},
   "outputs": [
    {
     "name": "stdout",
     "output_type": "stream",
     "text": [
      "Finding root between -5 & 2\n",
      "Finding root between -1.5 & 2\n",
      "Finding root between -1.5 & 0.25\n",
      "Finding root between -1.5 & -0.625\n",
      "Finding root between -1.0625 & -0.625\n",
      "Finding root between -1.0625 & -0.84375\n",
      "Finding root between -1.0625 & -0.953125\n",
      "Finding root between -1.0078125 & -0.953125\n",
      "Finding root between -1.0078125 & -0.98046875\n",
      "Finding root between -1.0078125 & -0.994140625\n",
      "Finding root between -1.0009765625 & -0.994140625\n",
      "Finding root between -1.0009765625 & -0.99755859375\n",
      "Finding root between -1.0009765625 & -0.999267578125\n",
      "Finding root between -1.0001220703125 & -0.999267578125\n",
      "Finding root between -1.0001220703125 & -0.99969482421875\n",
      "Finding root between -1.0001220703125 & -0.999908447265625\n",
      "Finding root between -1.0000152587890625 & -0.999908447265625\n",
      "Finding root between -1.0000152587890625 & -0.9999618530273438\n",
      "Finding root between -1.0000152587890625 & -0.9999885559082031\n",
      "The root of given function is: -1.0000152587890625\n"
     ]
    }
   ],
   "source": [
    "bisection(func,-5,2)"
   ]
  }
 ],
 "metadata": {
  "kernelspec": {
   "display_name": "Python 3",
   "language": "python",
   "name": "python3"
  },
  "language_info": {
   "codemirror_mode": {
    "name": "ipython",
    "version": 3
   },
   "file_extension": ".py",
   "mimetype": "text/x-python",
   "name": "python",
   "nbconvert_exporter": "python",
   "pygments_lexer": "ipython3",
   "version": "3.7.4"
  }
 },
 "nbformat": 4,
 "nbformat_minor": 2
}
