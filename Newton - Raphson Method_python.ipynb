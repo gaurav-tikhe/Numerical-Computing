{
 "cells": [
  {
   "cell_type": "code",
   "execution_count": 2,
   "metadata": {},
   "outputs": [],
   "source": [
    "from sympy import *\n",
    "x = Symbol('x')"
   ]
  },
  {
   "cell_type": "code",
   "execution_count": 3,
   "metadata": {},
   "outputs": [],
   "source": [
    "# Defining functions and derivative\n",
    "f = x**2 - 1\n",
    "f_prime = f.diff(x)\n",
    "f = lambdify(x,f)\n",
    "f_prime = lambdify(x,f_prime)"
   ]
  },
  {
   "cell_type": "code",
   "execution_count": 13,
   "metadata": {},
   "outputs": [],
   "source": [
    "# Defining Newton-Raphson method\n",
    "def Newton_Raphson(f,f_prime,x0,eps=1e-06):\n",
    "    print(\"Current root estimate:\",x0)\n",
    "    if abs(f(x0) <= eps):\n",
    "        print(\"The root of the equation is:\",x0)\n",
    "    else:\n",
    "        next_estimate = x0 - f(x0)/f_prime(x0)\n",
    "        if abs(f(next_estimate) <= eps):\n",
    "            print(\"The root of the equation is:\",next_estimate)\n",
    "        else:\n",
    "            return(Newton_Raphson(f,f_prime,next_estimate))"
   ]
  },
  {
   "cell_type": "code",
   "execution_count": 14,
   "metadata": {},
   "outputs": [
    {
     "name": "stdout",
     "output_type": "stream",
     "text": [
      "Current root estimate: 5\n",
      "Current root estimate: 2.6\n",
      "Current root estimate: 1.4923076923076923\n",
      "Current root estimate: 1.0812053925455987\n",
      "Current root estimate: 1.0030495203889795\n",
      "Current root estimate: 1.00000463565079\n",
      "The root of the equation is: 1.0000000000107445\n"
     ]
    }
   ],
   "source": [
    "Newton_Raphson(f,f_prime,5)"
   ]
  }
 ],
 "metadata": {
  "kernelspec": {
   "display_name": "Python 3",
   "language": "python",
   "name": "python3"
  },
  "language_info": {
   "codemirror_mode": {
    "name": "ipython",
    "version": 3
   },
   "file_extension": ".py",
   "mimetype": "text/x-python",
   "name": "python",
   "nbconvert_exporter": "python",
   "pygments_lexer": "ipython3",
   "version": "3.7.4"
  }
 },
 "nbformat": 4,
 "nbformat_minor": 2
}
